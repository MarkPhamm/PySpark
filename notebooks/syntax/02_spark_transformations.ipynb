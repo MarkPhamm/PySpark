{
 "cells": [
  {
   "cell_type": "markdown",
   "metadata": {},
   "source": [
    "# PySpark 02 — Spark Transformations\n",
    "This notebook focuses on common transformations in PySpark:\n",
    "\n",
    "1. Selecting columns\n",
    "2. Filtering rows\n",
    "3. Adding new columns\n",
    "4. Renaming or dropping columns\n",
    "5. Sorting data\n",
    "6. Grouping & Aggregation\n",
    "7. Chaining multiple transformations"
   ]
  },
  {
   "cell_type": "code",
   "execution_count": 2,
   "metadata": {},
   "outputs": [
    {
     "name": "stderr",
     "output_type": "stream",
     "text": [
      "Setting default log level to \"WARN\".\n",
      "To adjust logging level use sc.setLogLevel(newLevel). For SparkR, use setLogLevel(newLevel).\n",
      "25/05/05 17:26:17 WARN NativeCodeLoader: Unable to load native-hadoop library for your platform... using builtin-java classes where applicable\n",
      "25/05/05 17:26:20 WARN Utils: Service 'SparkUI' could not bind on port 4040. Attempting port 4041.\n"
     ]
    }
   ],
   "source": [
    "from pyspark.sql import SparkSession\n",
    "from pyspark.sql.functions import col, expr\n",
    "\n",
    "# Create SparkSession\n",
    "spark = SparkSession.builder \\\n",
    "    .appName(\"Spark Transformations\") \\\n",
    "    .getOrCreate()"
   ]
  },
  {
   "cell_type": "code",
   "execution_count": 45,
   "metadata": {},
   "outputs": [],
   "source": [
    "# Sample data\n",
    "raw_data = [\n",
    "    (\"Alice\", 25, \"New York\"),\n",
    "    (\"Bob\", 32, \"Los Angeles\"),\n",
    "    (\"Cathy\", 19, \"Chicago\"),\n",
    "    (\"Dan\", 40, \"New York\")\n",
    "]\n",
    "columns = [\"name\", \"age\", \"city\"]\n",
    "\n",
    "df = spark.createDataFrame(raw_data, columns)"
   ]
  },
  {
   "cell_type": "markdown",
   "metadata": {},
   "source": [
    "# 1. Selecting Columns\n",
    "You can use `.select()` to return a new DataFrame with only the specified columns."
   ]
  },
  {
   "cell_type": "markdown",
   "metadata": {},
   "source": [
    "## 1.1 Select all (*)"
   ]
  },
  {
   "cell_type": "code",
   "execution_count": 4,
   "metadata": {},
   "outputs": [
    {
     "name": "stderr",
     "output_type": "stream",
     "text": [
      "                                                                                \r"
     ]
    },
    {
     "name": "stdout",
     "output_type": "stream",
     "text": [
      "+-----+---+-----------+\n",
      "| name|age|       city|\n",
      "+-----+---+-----------+\n",
      "|Alice| 25|   New York|\n",
      "|  Bob| 32|Los Angeles|\n",
      "|Cathy| 19|    Chicago|\n",
      "|  Dan| 40|   New York|\n",
      "+-----+---+-----------+\n",
      "\n"
     ]
    }
   ],
   "source": [
    "df.select(\"*\").show()"
   ]
  },
  {
   "cell_type": "markdown",
   "metadata": {},
   "source": [
    "## 1.2 Select by Column Name (String)"
   ]
  },
  {
   "cell_type": "code",
   "execution_count": 5,
   "metadata": {},
   "outputs": [
    {
     "name": "stdout",
     "output_type": "stream",
     "text": [
      "+-----+---+\n",
      "| name|age|\n",
      "+-----+---+\n",
      "|Alice| 25|\n",
      "|  Bob| 32|\n",
      "|Cathy| 19|\n",
      "|  Dan| 40|\n",
      "+-----+---+\n",
      "\n"
     ]
    }
   ],
   "source": [
    "selected = df.select(\"name\", \"age\")\n",
    "selected.show()"
   ]
  },
  {
   "cell_type": "markdown",
   "metadata": {},
   "source": [
    "## 1.3 Select Using `col()` (Explicit)"
   ]
  },
  {
   "cell_type": "code",
   "execution_count": 6,
   "metadata": {},
   "outputs": [
    {
     "name": "stderr",
     "output_type": "stream",
     "text": [
      "                                                                                \r"
     ]
    },
    {
     "name": "stdout",
     "output_type": "stream",
     "text": [
      "+-----+---+\n",
      "| name|age|\n",
      "+-----+---+\n",
      "|Alice| 25|\n",
      "|  Bob| 32|\n",
      "|Cathy| 19|\n",
      "|  Dan| 40|\n",
      "+-----+---+\n",
      "\n"
     ]
    }
   ],
   "source": [
    "df.select(col(\"name\"), col(\"age\")).show()"
   ]
  },
  {
   "cell_type": "markdown",
   "metadata": {},
   "source": [
    "## 1.4 Select with Aliased Columns (Renaming)"
   ]
  },
  {
   "cell_type": "code",
   "execution_count": 7,
   "metadata": {},
   "outputs": [
    {
     "name": "stdout",
     "output_type": "stream",
     "text": [
      "+---------+---------+\n",
      "|full_name|years_old|\n",
      "+---------+---------+\n",
      "|    Alice|       25|\n",
      "|      Bob|       32|\n",
      "|    Cathy|       19|\n",
      "|      Dan|       40|\n",
      "+---------+---------+\n",
      "\n"
     ]
    }
   ],
   "source": [
    "df.select(\n",
    "    col(\"name\").alias(\"full_name\"),\n",
    "    col(\"age\").alias(\"years_old\")\n",
    ").show()"
   ]
  },
  {
   "cell_type": "markdown",
   "metadata": {},
   "source": [
    "# 2. Filtering Rows\n",
    "Use `.filter()` or `.where()` to return a new DataFrame with rows that meet a condition.\n",
    "\n",
    "| Method      | Style                      |\n",
    "| ----------- | -------------------------- |\n",
    "| `.filter()` | More common in Python code |\n",
    "| `.where()`  | Familiar to SQL users      |\n"
   ]
  },
  {
   "cell_type": "markdown",
   "metadata": {},
   "source": [
    "## 2.1 Basic Filter with Column Condition"
   ]
  },
  {
   "cell_type": "code",
   "execution_count": 8,
   "metadata": {},
   "outputs": [
    {
     "name": "stdout",
     "output_type": "stream",
     "text": [
      "+----+---+-----------+\n",
      "|name|age|       city|\n",
      "+----+---+-----------+\n",
      "| Bob| 32|Los Angeles|\n",
      "| Dan| 40|   New York|\n",
      "+----+---+-----------+\n",
      "\n"
     ]
    },
    {
     "name": "stderr",
     "output_type": "stream",
     "text": [
      "                                                                                \r"
     ]
    }
   ],
   "source": [
    "df.filter(col(\"age\") > 30).show()"
   ]
  },
  {
   "cell_type": "code",
   "execution_count": 9,
   "metadata": {},
   "outputs": [
    {
     "name": "stdout",
     "output_type": "stream",
     "text": [
      "+----+---+-----------+\n",
      "|name|age|       city|\n",
      "+----+---+-----------+\n",
      "| Bob| 32|Los Angeles|\n",
      "| Dan| 40|   New York|\n",
      "+----+---+-----------+\n",
      "\n"
     ]
    }
   ],
   "source": [
    "df.where(\"age > 30\").show()"
   ]
  },
  {
   "cell_type": "markdown",
   "metadata": {},
   "source": [
    "## 2.2 Filter with Multiple Conditions (AND/OR)"
   ]
  },
  {
   "cell_type": "code",
   "execution_count": 10,
   "metadata": {},
   "outputs": [
    {
     "name": "stderr",
     "output_type": "stream",
     "text": [
      "                                                                                \r"
     ]
    },
    {
     "name": "stdout",
     "output_type": "stream",
     "text": [
      "+-----+---+--------+\n",
      "| name|age|    city|\n",
      "+-----+---+--------+\n",
      "|Alice| 25|New York|\n",
      "|  Dan| 40|New York|\n",
      "+-----+---+--------+\n",
      "\n",
      "+-----+---+--------+\n",
      "| name|age|    city|\n",
      "+-----+---+--------+\n",
      "|Alice| 25|New York|\n",
      "|  Dan| 40|New York|\n",
      "+-----+---+--------+\n",
      "\n"
     ]
    }
   ],
   "source": [
    "df.filter((col(\"age\") > 20) & (col(\"city\") == \"New York\")).show()\n",
    "# or \n",
    "df.where('age > 20 and city = \"New York\"').show()"
   ]
  },
  {
   "cell_type": "code",
   "execution_count": 11,
   "metadata": {},
   "outputs": [
    {
     "name": "stdout",
     "output_type": "stream",
     "text": [
      "+-----+---+--------+\n",
      "| name|age|    city|\n",
      "+-----+---+--------+\n",
      "|Alice| 25|New York|\n",
      "|Cathy| 19| Chicago|\n",
      "|  Dan| 40|New York|\n",
      "+-----+---+--------+\n",
      "\n",
      "+-----+---+--------+\n",
      "| name|age|    city|\n",
      "+-----+---+--------+\n",
      "|Alice| 25|New York|\n",
      "|Cathy| 19| Chicago|\n",
      "|  Dan| 40|New York|\n",
      "+-----+---+--------+\n",
      "\n"
     ]
    }
   ],
   "source": [
    "df.filter((col(\"city\") == \"Chicago\") | (col(\"city\") == \"New York\")).show()\n",
    "# or\n",
    "df.where('city = \"Chicago\" or city = \"New York\"').show()"
   ]
  },
  {
   "cell_type": "markdown",
   "metadata": {},
   "source": [
    "## 2.3 Filter with isin()"
   ]
  },
  {
   "cell_type": "code",
   "execution_count": 12,
   "metadata": {},
   "outputs": [
    {
     "name": "stdout",
     "output_type": "stream",
     "text": [
      "+-----+---+--------+\n",
      "| name|age|    city|\n",
      "+-----+---+--------+\n",
      "|Alice| 25|New York|\n",
      "|Cathy| 19| Chicago|\n",
      "|  Dan| 40|New York|\n",
      "+-----+---+--------+\n",
      "\n",
      "+-----+---+--------+\n",
      "| name|age|    city|\n",
      "+-----+---+--------+\n",
      "|Alice| 25|New York|\n",
      "|Cathy| 19| Chicago|\n",
      "|  Dan| 40|New York|\n",
      "+-----+---+--------+\n",
      "\n"
     ]
    }
   ],
   "source": [
    "df.filter(col(\"city\").isin(\"Chicago\", \"New York\")).show()\n",
    "# or\n",
    "df.where('city in (\"Chicago\", \"New York\")').show()"
   ]
  },
  {
   "cell_type": "code",
   "execution_count": 14,
   "metadata": {},
   "outputs": [
    {
     "name": "stderr",
     "output_type": "stream",
     "text": [
      "                                                                                \r"
     ]
    },
    {
     "name": "stdout",
     "output_type": "stream",
     "text": [
      "+-----+---+--------+\n",
      "| name|age|    city|\n",
      "+-----+---+--------+\n",
      "|Alice| 25|New York|\n",
      "|Cathy| 19| Chicago|\n",
      "|  Dan| 40|New York|\n",
      "+-----+---+--------+\n",
      "\n"
     ]
    }
   ],
   "source": [
    "cities = [\"Chicago\", \"New York\"]\n",
    "df.filter(col(\"city\").isin(cities)).show()"
   ]
  },
  {
   "cell_type": "markdown",
   "metadata": {},
   "source": [
    "## 2.4 Filter with ~ for NOT"
   ]
  },
  {
   "cell_type": "code",
   "execution_count": 13,
   "metadata": {},
   "outputs": [
    {
     "name": "stdout",
     "output_type": "stream",
     "text": [
      "+----+---+-----------+\n",
      "|name|age|       city|\n",
      "+----+---+-----------+\n",
      "| Bob| 32|Los Angeles|\n",
      "+----+---+-----------+\n",
      "\n"
     ]
    },
    {
     "data": {
      "text/plain": [
       "DataFrame[name: string, age: bigint, city: string]"
      ]
     },
     "execution_count": 13,
     "metadata": {},
     "output_type": "execute_result"
    }
   ],
   "source": [
    "df.filter(~col(\"city\").isin(\"Chicago\", \"New York\")).show()\n",
    "# or \n",
    "df.where('city not in (\"Chicago\", \"New York\")')"
   ]
  },
  {
   "cell_type": "markdown",
   "metadata": {},
   "source": [
    "## 2.5 Filter with `isNull()` / `isNotNull()`"
   ]
  },
  {
   "cell_type": "code",
   "execution_count": 15,
   "metadata": {},
   "outputs": [
    {
     "name": "stdout",
     "output_type": "stream",
     "text": [
      "+-----+---+-----------+\n",
      "| name|age|       city|\n",
      "+-----+---+-----------+\n",
      "|Alice| 25|   New York|\n",
      "|  Bob| 32|Los Angeles|\n",
      "|Cathy| 19|    Chicago|\n",
      "|  Dan| 40|   New York|\n",
      "+-----+---+-----------+\n",
      "\n",
      "+-----+---+-----------+\n",
      "| name|age|       city|\n",
      "+-----+---+-----------+\n",
      "|Alice| 25|   New York|\n",
      "|  Bob| 32|Los Angeles|\n",
      "|Cathy| 19|    Chicago|\n",
      "|  Dan| 40|   New York|\n",
      "+-----+---+-----------+\n",
      "\n"
     ]
    }
   ],
   "source": [
    "df.filter(col(\"city\").isNotNull()).show()\n",
    "# or\n",
    "df.where(\"city IS NOT NULL\").show()"
   ]
  },
  {
   "cell_type": "markdown",
   "metadata": {},
   "source": [
    "## 2.6 Filter with like / rlike (pattern matching)"
   ]
  },
  {
   "cell_type": "code",
   "execution_count": 16,
   "metadata": {},
   "outputs": [
    {
     "name": "stdout",
     "output_type": "stream",
     "text": [
      "+-----+---+--------+\n",
      "| name|age|    city|\n",
      "+-----+---+--------+\n",
      "|Alice| 25|New York|\n",
      "|  Dan| 40|New York|\n",
      "+-----+---+--------+\n",
      "\n",
      "+-----+---+--------+\n",
      "| name|age|    city|\n",
      "+-----+---+--------+\n",
      "|Alice| 25|New York|\n",
      "|  Dan| 40|New York|\n",
      "+-----+---+--------+\n",
      "\n"
     ]
    }
   ],
   "source": [
    "df.filter(col(\"city\").like(\"New%\")).show()\n",
    "# or\n",
    "df.where(\"city LIKE 'New%'\").show()"
   ]
  },
  {
   "cell_type": "markdown",
   "metadata": {},
   "source": [
    "For regex-like string matching:"
   ]
  },
  {
   "cell_type": "code",
   "execution_count": 17,
   "metadata": {},
   "outputs": [
    {
     "name": "stderr",
     "output_type": "stream",
     "text": [
      "                                                                                \r"
     ]
    },
    {
     "name": "stdout",
     "output_type": "stream",
     "text": [
      "+-----+---+-----------+\n",
      "| name|age|       city|\n",
      "+-----+---+-----------+\n",
      "|Alice| 25|   New York|\n",
      "|  Bob| 32|Los Angeles|\n",
      "|Cathy| 19|    Chicago|\n",
      "+-----+---+-----------+\n",
      "\n",
      "+-----+---+-----------+\n",
      "| name|age|       city|\n",
      "+-----+---+-----------+\n",
      "|Alice| 25|   New York|\n",
      "|  Bob| 32|Los Angeles|\n",
      "|Cathy| 19|    Chicago|\n",
      "+-----+---+-----------+\n",
      "\n"
     ]
    }
   ],
   "source": [
    "df.filter(col(\"name\").rlike(\"^[A-C].*\")).show()\n",
    "# or\n",
    "df.where(\"name RLIKE '^[A-C].*'\").show()"
   ]
  },
  {
   "cell_type": "markdown",
   "metadata": {},
   "source": [
    "## 2.7 Filter with `.between()`"
   ]
  },
  {
   "cell_type": "code",
   "execution_count": 18,
   "metadata": {},
   "outputs": [
    {
     "name": "stdout",
     "output_type": "stream",
     "text": [
      "+-----+---+--------+\n",
      "| name|age|    city|\n",
      "+-----+---+--------+\n",
      "|Alice| 25|New York|\n",
      "+-----+---+--------+\n",
      "\n",
      "+-----+---+--------+\n",
      "| name|age|    city|\n",
      "+-----+---+--------+\n",
      "|Alice| 25|New York|\n",
      "+-----+---+--------+\n",
      "\n"
     ]
    }
   ],
   "source": [
    "df.filter(col(\"age\").between(20, 30)).show()\n",
    "# or\n",
    "df.where(\"age BETWEEN 20 AND 30\").show()"
   ]
  },
  {
   "cell_type": "markdown",
   "metadata": {},
   "source": [
    "## 2.8 Filtering on `startswith()`, `endswith()`, `contains()`"
   ]
  },
  {
   "cell_type": "code",
   "execution_count": 21,
   "metadata": {},
   "outputs": [
    {
     "name": "stdout",
     "output_type": "stream",
     "text": [
      "+-----+---+--------+\n",
      "| name|age|    city|\n",
      "+-----+---+--------+\n",
      "|Alice| 25|New York|\n",
      "|  Dan| 40|New York|\n",
      "+-----+---+--------+\n",
      "\n",
      "+-----+---+--------+\n",
      "| name|age|    city|\n",
      "+-----+---+--------+\n",
      "|Alice| 25|New York|\n",
      "|  Dan| 40|New York|\n",
      "+-----+---+--------+\n",
      "\n"
     ]
    }
   ],
   "source": [
    "df.filter(col(\"city\").startswith(\"New\")).show()\n",
    "# or\n",
    "df.where('city like \"New%\"').show()\n"
   ]
  },
  {
   "cell_type": "code",
   "execution_count": 22,
   "metadata": {},
   "outputs": [
    {
     "name": "stdout",
     "output_type": "stream",
     "text": [
      "+-----+---+-------+\n",
      "| name|age|   city|\n",
      "+-----+---+-------+\n",
      "|Cathy| 19|Chicago|\n",
      "+-----+---+-------+\n",
      "\n",
      "+-----+---+-------+\n",
      "| name|age|   city|\n",
      "+-----+---+-------+\n",
      "|Cathy| 19|Chicago|\n",
      "+-----+---+-------+\n",
      "\n"
     ]
    }
   ],
   "source": [
    "df.filter(col(\"name\").endswith(\"y\")).show()\n",
    "# or \n",
    "df.where(\"name LIKE '%y'\").show()"
   ]
  },
  {
   "cell_type": "code",
   "execution_count": 23,
   "metadata": {},
   "outputs": [
    {
     "name": "stdout",
     "output_type": "stream",
     "text": [
      "+-----+---+--------+\n",
      "| name|age|    city|\n",
      "+-----+---+--------+\n",
      "|Alice| 25|New York|\n",
      "|  Dan| 40|New York|\n",
      "+-----+---+--------+\n",
      "\n",
      "+-----+---+--------+\n",
      "| name|age|    city|\n",
      "+-----+---+--------+\n",
      "|Alice| 25|New York|\n",
      "|  Dan| 40|New York|\n",
      "+-----+---+--------+\n",
      "\n"
     ]
    }
   ],
   "source": [
    "df.filter(col(\"city\").contains(\"York\")).show()\n",
    "# or \n",
    "df.where(\"city LIKE '%York%'\").show()"
   ]
  },
  {
   "cell_type": "markdown",
   "metadata": {},
   "source": [
    "# 3. Adding New Columns\n",
    "Use `.withColumn()` to add or modify a column in a DataFrame. You can apply expressions, functions, or constants."
   ]
  },
  {
   "cell_type": "markdown",
   "metadata": {},
   "source": [
    "## 3.1 Add Column with Literal Value"
   ]
  },
  {
   "cell_type": "code",
   "execution_count": 26,
   "metadata": {},
   "outputs": [
    {
     "name": "stdout",
     "output_type": "stream",
     "text": [
      "+-----+---+-----------+-------+\n",
      "| name|age|       city|country|\n",
      "+-----+---+-----------+-------+\n",
      "|Alice| 25|   New York|    USA|\n",
      "|  Bob| 32|Los Angeles|    USA|\n",
      "|Cathy| 19|    Chicago|    USA|\n",
      "|  Dan| 40|   New York|    USA|\n",
      "+-----+---+-----------+-------+\n",
      "\n"
     ]
    },
    {
     "name": "stderr",
     "output_type": "stream",
     "text": [
      "                                                                                \r"
     ]
    }
   ],
   "source": [
    "from pyspark.sql.functions import lit\n",
    "\n",
    "df.withColumn(\"country\", lit(\"USA\")).show()"
   ]
  },
  {
   "cell_type": "markdown",
   "metadata": {},
   "source": [
    "## 3.2 Add Column Based on Expression"
   ]
  },
  {
   "cell_type": "code",
   "execution_count": 28,
   "metadata": {},
   "outputs": [
    {
     "name": "stdout",
     "output_type": "stream",
     "text": [
      "+-----+---+-----------+--------------+\n",
      "| name|age|       city|age_in_5_years|\n",
      "+-----+---+-----------+--------------+\n",
      "|Alice| 25|   New York|            30|\n",
      "|  Bob| 32|Los Angeles|            37|\n",
      "|Cathy| 19|    Chicago|            24|\n",
      "|  Dan| 40|   New York|            45|\n",
      "+-----+---+-----------+--------------+\n",
      "\n"
     ]
    }
   ],
   "source": [
    "from pyspark.sql.functions import expr\n",
    "\n",
    "df.withColumn(\"age_in_5_years\", expr(\"age + 5\")).show()"
   ]
  },
  {
   "cell_type": "markdown",
   "metadata": {},
   "source": [
    "## 3.3 Add Column with Multiple Conditional Logic (like if-else)"
   ]
  },
  {
   "cell_type": "code",
   "execution_count": 34,
   "metadata": {},
   "outputs": [
    {
     "name": "stderr",
     "output_type": "stream",
     "text": [
      "                                                                                \r"
     ]
    },
    {
     "name": "stdout",
     "output_type": "stream",
     "text": [
      "+-----+---+-----------+-----+\n",
      "| name|age|       city|Types|\n",
      "+-----+---+-----------+-----+\n",
      "|Alice| 25|   New York|Adult|\n",
      "|  Bob| 32|Los Angeles|Adult|\n",
      "|Cathy| 19|    Chicago| Teen|\n",
      "|  Dan| 40|   New York|Adult|\n",
      "+-----+---+-----------+-----+\n",
      "\n"
     ]
    }
   ],
   "source": [
    "from pyspark.sql.functions import when, col\n",
    "\n",
    "df.withColumn(\n",
    "    \"Types\",\n",
    "    when(col(\"age\") >= 21, \"Adult\")\n",
    "    .when(col(\"age\") >= 12, \"Teen\")\n",
    "    .otherwise(\"Kid\")\n",
    ").show()"
   ]
  },
  {
   "cell_type": "markdown",
   "metadata": {},
   "source": [
    "## 3.4 Add Column Using Existing Columns"
   ]
  },
  {
   "cell_type": "code",
   "execution_count": 38,
   "metadata": {},
   "outputs": [
    {
     "name": "stdout",
     "output_type": "stream",
     "text": [
      "+-----+---+-----------+--------+\n",
      "| name|age|       city|name_age|\n",
      "+-----+---+-----------+--------+\n",
      "|Alice| 25|   New York|Alice_25|\n",
      "|  Bob| 32|Los Angeles|  Bob_32|\n",
      "|Cathy| 19|    Chicago|Cathy_19|\n",
      "|  Dan| 40|   New York|  Dan_40|\n",
      "+-----+---+-----------+--------+\n",
      "\n"
     ]
    }
   ],
   "source": [
    "from pyspark.sql.functions import concat, col, lit\n",
    "\n",
    "df.withColumn(\n",
    "    \"name_age\",\n",
    "    concat(col(\"name\"), lit(\"_\"), col(\"age\").cast(\"string\"))\n",
    ").show()"
   ]
  },
  {
   "cell_type": "markdown",
   "metadata": {},
   "source": [
    "## 3.5 Overwrite an Existing Column"
   ]
  },
  {
   "cell_type": "code",
   "execution_count": 32,
   "metadata": {},
   "outputs": [
    {
     "name": "stdout",
     "output_type": "stream",
     "text": [
      "+-----+---+-----------+\n",
      "| name|age|       city|\n",
      "+-----+---+-----------+\n",
      "|Alice| 26|   New York|\n",
      "|  Bob| 33|Los Angeles|\n",
      "|Cathy| 20|    Chicago|\n",
      "|  Dan| 41|   New York|\n",
      "+-----+---+-----------+\n",
      "\n"
     ]
    }
   ],
   "source": [
    "df.withColumn(\"age\", col(\"age\") + 1).show()  # updates the 'age' column"
   ]
  },
  {
   "cell_type": "markdown",
   "metadata": {},
   "source": [
    "# 4. Renaming or dropping columns\n",
    "You can rename or drop columns in a DataFrame using `.withColumnRenamed()` and `.drop()`."
   ]
  },
  {
   "cell_type": "markdown",
   "metadata": {},
   "source": [
    "## 4.1 Renaming Column(s)"
   ]
  },
  {
   "cell_type": "code",
   "execution_count": 41,
   "metadata": {},
   "outputs": [
    {
     "name": "stdout",
     "output_type": "stream",
     "text": [
      "+---------+---+-----------+\n",
      "|full_name|age|       city|\n",
      "+---------+---+-----------+\n",
      "|    Alice| 25|   New York|\n",
      "|      Bob| 32|Los Angeles|\n",
      "|    Cathy| 19|    Chicago|\n",
      "|      Dan| 40|   New York|\n",
      "+---------+---+-----------+\n",
      "\n"
     ]
    }
   ],
   "source": [
    "# Single Column\n",
    "df.withColumnRenamed(\"name\", \"full_name\").show()"
   ]
  },
  {
   "cell_type": "code",
   "execution_count": 42,
   "metadata": {},
   "outputs": [
    {
     "name": "stdout",
     "output_type": "stream",
     "text": [
      "+---------+---------+-----------+\n",
      "|full_name|years_old|       city|\n",
      "+---------+---------+-----------+\n",
      "|    Alice|       25|   New York|\n",
      "|      Bob|       32|Los Angeles|\n",
      "|    Cathy|       19|    Chicago|\n",
      "|      Dan|       40|   New York|\n",
      "+---------+---------+-----------+\n",
      "\n"
     ]
    }
   ],
   "source": [
    "# Multiple Column\n",
    "df.withColumnRenamed(\"name\", \"full_name\") \\\n",
    "  .withColumnRenamed(\"age\", \"years_old\") \\\n",
    "  .show()"
   ]
  },
  {
   "cell_type": "markdown",
   "metadata": {},
   "source": [
    "## 4.2 Dropping Column(s)"
   ]
  },
  {
   "cell_type": "code",
   "execution_count": 43,
   "metadata": {},
   "outputs": [
    {
     "name": "stdout",
     "output_type": "stream",
     "text": [
      "+-----+---+\n",
      "| name|age|\n",
      "+-----+---+\n",
      "|Alice| 25|\n",
      "|  Bob| 32|\n",
      "|Cathy| 19|\n",
      "|  Dan| 40|\n",
      "+-----+---+\n",
      "\n"
     ]
    }
   ],
   "source": [
    "# Single Column\n",
    "df.drop(\"city\").show()"
   ]
  },
  {
   "cell_type": "code",
   "execution_count": 44,
   "metadata": {},
   "outputs": [
    {
     "name": "stdout",
     "output_type": "stream",
     "text": [
      "+-----+\n",
      "| name|\n",
      "+-----+\n",
      "|Alice|\n",
      "|  Bob|\n",
      "|Cathy|\n",
      "|  Dan|\n",
      "+-----+\n",
      "\n"
     ]
    }
   ],
   "source": [
    "df.drop(\"city\", \"age\").show()"
   ]
  },
  {
   "cell_type": "markdown",
   "metadata": {},
   "source": [
    "# 5. Sorting Data\n",
    "\n",
    "Use `.orderBy()` or `.sort()` to sort DataFrames by one or more columns.\n",
    "\n",
    "Both methods behave the same — `.orderBy()` is preferred for clarity."
   ]
  },
  {
   "cell_type": "markdown",
   "metadata": {},
   "source": [
    "## 5.1 Sort by One Column (Ascending)"
   ]
  },
  {
   "cell_type": "code",
   "execution_count": 47,
   "metadata": {},
   "outputs": [
    {
     "name": "stdout",
     "output_type": "stream",
     "text": [
      "+-----+---+-----------+\n",
      "| name|age|       city|\n",
      "+-----+---+-----------+\n",
      "|Cathy| 19|    Chicago|\n",
      "|Alice| 25|   New York|\n",
      "|  Bob| 32|Los Angeles|\n",
      "|  Dan| 40|   New York|\n",
      "+-----+---+-----------+\n",
      "\n",
      "+-----+---+-----------+\n",
      "| name|age|       city|\n",
      "+-----+---+-----------+\n",
      "|Cathy| 19|    Chicago|\n",
      "|Alice| 25|   New York|\n",
      "|  Bob| 32|Los Angeles|\n",
      "|  Dan| 40|   New York|\n",
      "+-----+---+-----------+\n",
      "\n"
     ]
    },
    {
     "name": "stderr",
     "output_type": "stream",
     "text": [
      "                                                                                \r"
     ]
    }
   ],
   "source": [
    "df.sort(\"age\").show()\n",
    "# or\n",
    "df.orderBy(col(\"age\").asc()).show()"
   ]
  },
  {
   "cell_type": "markdown",
   "metadata": {},
   "source": [
    "## 5.2 Sort by One Column (Descending)"
   ]
  },
  {
   "cell_type": "code",
   "execution_count": 48,
   "metadata": {},
   "outputs": [
    {
     "name": "stdout",
     "output_type": "stream",
     "text": [
      "+-----+---+-----------+\n",
      "| name|age|       city|\n",
      "+-----+---+-----------+\n",
      "|  Dan| 40|   New York|\n",
      "|  Bob| 32|Los Angeles|\n",
      "|Alice| 25|   New York|\n",
      "|Cathy| 19|    Chicago|\n",
      "+-----+---+-----------+\n",
      "\n"
     ]
    }
   ],
   "source": [
    "df.orderBy(col(\"age\").desc()).show()\n"
   ]
  },
  {
   "cell_type": "markdown",
   "metadata": {},
   "source": [
    "## 5.3 Sort by Multiple Columns"
   ]
  },
  {
   "cell_type": "code",
   "execution_count": 49,
   "metadata": {},
   "outputs": [
    {
     "name": "stdout",
     "output_type": "stream",
     "text": [
      "+-----+---+-----------+\n",
      "| name|age|       city|\n",
      "+-----+---+-----------+\n",
      "|Cathy| 19|    Chicago|\n",
      "|  Bob| 32|Los Angeles|\n",
      "|  Dan| 40|   New York|\n",
      "|Alice| 25|   New York|\n",
      "+-----+---+-----------+\n",
      "\n"
     ]
    }
   ],
   "source": [
    "df.orderBy(col(\"city\").asc(), col(\"age\").desc()).show()"
   ]
  },
  {
   "cell_type": "markdown",
   "metadata": {},
   "source": [
    "# 6. Grouping & Aggregation\n",
    "\n",
    "Use `.groupBy()` with aggregation functions to summarize your data.\n",
    "\n",
    "Import functions from `pyspark.sql.functions`."
   ]
  },
  {
   "cell_type": "markdown",
   "metadata": {},
   "source": [
    "## 6.1 Group By One Column and Count"
   ]
  },
  {
   "cell_type": "code",
   "execution_count": 50,
   "metadata": {},
   "outputs": [
    {
     "name": "stderr",
     "output_type": "stream",
     "text": [
      "[Stage 102:>                                                        (0 + 2) / 2]\r"
     ]
    },
    {
     "name": "stdout",
     "output_type": "stream",
     "text": [
      "+-----------+-----+\n",
      "|       city|count|\n",
      "+-----------+-----+\n",
      "|Los Angeles|    1|\n",
      "|   New York|    2|\n",
      "|    Chicago|    1|\n",
      "+-----------+-----+\n",
      "\n"
     ]
    },
    {
     "name": "stderr",
     "output_type": "stream",
     "text": [
      "                                                                                \r"
     ]
    }
   ],
   "source": [
    "df.groupBy(\"city\").count().show()"
   ]
  },
  {
   "cell_type": "markdown",
   "metadata": {},
   "source": [
    "## 6.2 Group By and Aggregate Multiple Columns"
   ]
  },
  {
   "cell_type": "code",
   "execution_count": 53,
   "metadata": {},
   "outputs": [
    {
     "name": "stderr",
     "output_type": "stream",
     "text": [
      "[Stage 108:============================>                            (1 + 1) / 2]\r"
     ]
    },
    {
     "name": "stdout",
     "output_type": "stream",
     "text": [
      "+-----------+-------+-------+-------+\n",
      "|       city|avg_age|max_age|min_age|\n",
      "+-----------+-------+-------+-------+\n",
      "|Los Angeles|   32.0|     32|     32|\n",
      "|   New York|   32.5|     40|     25|\n",
      "|    Chicago|   19.0|     19|     19|\n",
      "+-----------+-------+-------+-------+\n",
      "\n"
     ]
    },
    {
     "name": "stderr",
     "output_type": "stream",
     "text": [
      "                                                                                \r"
     ]
    }
   ],
   "source": [
    "from pyspark.sql.functions import avg, max, min\n",
    "\n",
    "df.groupBy(\"city\").agg(\n",
    "    avg(\"age\").alias(\"avg_age\"),\n",
    "    max(\"age\").alias(\"max_age\"),\n",
    "    min(\"age\").alias(\"min_age\")\n",
    ").show()"
   ]
  },
  {
   "cell_type": "markdown",
   "metadata": {},
   "source": [
    "## 6.3 Group By Multiple Columns\n"
   ]
  },
  {
   "cell_type": "code",
   "execution_count": 55,
   "metadata": {},
   "outputs": [
    {
     "name": "stderr",
     "output_type": "stream",
     "text": [
      "[Stage 114:>                                                        (0 + 2) / 2]\r"
     ]
    },
    {
     "name": "stdout",
     "output_type": "stream",
     "text": [
      "+-----------+---+-----+\n",
      "|       city|age|count|\n",
      "+-----------+---+-----+\n",
      "|Los Angeles| 32|    1|\n",
      "|   New York| 25|    1|\n",
      "|   New York| 40|    1|\n",
      "|    Chicago| 19|    1|\n",
      "+-----------+---+-----+\n",
      "\n"
     ]
    },
    {
     "name": "stderr",
     "output_type": "stream",
     "text": [
      "                                                                                \r"
     ]
    }
   ],
   "source": [
    "df.groupBy(\"city\", \"age\").count().show()"
   ]
  },
  {
   "cell_type": "markdown",
   "metadata": {},
   "source": [
    "## 6.4 Filter After Grouping (using .filter())"
   ]
  },
  {
   "cell_type": "code",
   "execution_count": 54,
   "metadata": {},
   "outputs": [
    {
     "name": "stderr",
     "output_type": "stream",
     "text": [
      "[Stage 111:>                                                        (0 + 2) / 2]\r"
     ]
    },
    {
     "name": "stdout",
     "output_type": "stream",
     "text": [
      "+--------+-----+\n",
      "|    city|count|\n",
      "+--------+-----+\n",
      "|New York|    2|\n",
      "+--------+-----+\n",
      "\n"
     ]
    },
    {
     "name": "stderr",
     "output_type": "stream",
     "text": [
      "                                                                                \r"
     ]
    }
   ],
   "source": [
    "df.groupBy(\"city\").count().filter(col(\"count\") > 1).show()"
   ]
  },
  {
   "cell_type": "markdown",
   "metadata": {},
   "source": [
    "## 6.5 Order Aggregated Results"
   ]
  },
  {
   "cell_type": "code",
   "execution_count": 57,
   "metadata": {},
   "outputs": [
    {
     "name": "stderr",
     "output_type": "stream",
     "text": [
      "[Stage 120:============================>                            (1 + 1) / 2]\r"
     ]
    },
    {
     "name": "stdout",
     "output_type": "stream",
     "text": [
      "+-----------+--------+\n",
      "|       city|avg(age)|\n",
      "+-----------+--------+\n",
      "|   New York|    32.5|\n",
      "|Los Angeles|    32.0|\n",
      "|    Chicago|    19.0|\n",
      "+-----------+--------+\n",
      "\n"
     ]
    },
    {
     "name": "stderr",
     "output_type": "stream",
     "text": [
      "                                                                                \r"
     ]
    }
   ],
   "source": [
    "df.groupBy(\"city\").avg(\"age\").orderBy(\"avg(age)\", ascending=False).show()"
   ]
  },
  {
   "cell_type": "markdown",
   "metadata": {},
   "source": [
    "# 7. Chaining Multiple Transformations\n",
    "In PySpark, you can chain multiple operations together in a fluent, readable way.\n",
    "\n",
    "This avoids creating intermediate DataFrames and keeps your logic clear."
   ]
  },
  {
   "cell_type": "markdown",
   "metadata": {},
   "source": [
    "## 7.1 Example: Filter → Add Column → Sort → Show\n"
   ]
  },
  {
   "cell_type": "code",
   "execution_count": 58,
   "metadata": {},
   "outputs": [
    {
     "name": "stderr",
     "output_type": "stream",
     "text": [
      "[Stage 123:>                                                        (0 + 2) / 2]\r"
     ]
    },
    {
     "name": "stdout",
     "output_type": "stream",
     "text": [
      "+-----+---+-----------+-------+\n",
      "| name|age|       city|country|\n",
      "+-----+---+-----------+-------+\n",
      "|  Dan| 40|   New York|    USA|\n",
      "|  Bob| 32|Los Angeles|    USA|\n",
      "|Alice| 25|   New York|    USA|\n",
      "+-----+---+-----------+-------+\n",
      "\n"
     ]
    },
    {
     "name": "stderr",
     "output_type": "stream",
     "text": [
      "                                                                                \r"
     ]
    }
   ],
   "source": [
    "df.filter(col(\"age\") > 20) \\\n",
    "  .withColumn(\"country\", lit(\"USA\")) \\\n",
    "  .orderBy(col(\"age\").desc()) \\\n",
    "  .show()"
   ]
  },
  {
   "cell_type": "markdown",
   "metadata": {},
   "source": [
    "## 7.2 Another Example: Filter Teens → Add Flag → Drop Column"
   ]
  },
  {
   "cell_type": "code",
   "execution_count": 59,
   "metadata": {},
   "outputs": [
    {
     "name": "stdout",
     "output_type": "stream",
     "text": [
      "+-----+---+-----+\n",
      "| name|age|group|\n",
      "+-----+---+-----+\n",
      "|Cathy| 19| Teen|\n",
      "+-----+---+-----+\n",
      "\n"
     ]
    }
   ],
   "source": [
    "df.filter((col(\"age\") >= 13) & (col(\"age\") <= 19)) \\\n",
    "  .withColumn(\"group\", lit(\"Teen\")) \\\n",
    "  .drop(\"city\") \\\n",
    "  .show()"
   ]
  },
  {
   "cell_type": "code",
   "execution_count": 60,
   "metadata": {},
   "outputs": [],
   "source": [
    "spark.stop()"
   ]
  }
 ],
 "metadata": {
  "kernelspec": {
   "display_name": ".venv",
   "language": "python",
   "name": "python3"
  },
  "language_info": {
   "codemirror_mode": {
    "name": "ipython",
    "version": 3
   },
   "file_extension": ".py",
   "mimetype": "text/x-python",
   "name": "python",
   "nbconvert_exporter": "python",
   "pygments_lexer": "ipython3",
   "version": "3.11.8"
  }
 },
 "nbformat": 4,
 "nbformat_minor": 2
}
