{
 "cells": [
  {
   "cell_type": "code",
   "execution_count": 1,
   "metadata": {},
   "outputs": [
    {
     "name": "stdout",
     "output_type": "stream",
     "text": [
      "/home/user/PySpark/.venv/bin/python\n"
     ]
    }
   ],
   "source": [
    "import sys\n",
    "print(sys.executable)"
   ]
  },
  {
   "cell_type": "code",
   "execution_count": 2,
   "metadata": {},
   "outputs": [],
   "source": [
    "from pyspark.sql import SparkSession\n",
    "from pyspark.sql.functions import avg, max, col"
   ]
  },
  {
   "cell_type": "code",
   "execution_count": 3,
   "metadata": {},
   "outputs": [
    {
     "name": "stderr",
     "output_type": "stream",
     "text": [
      "Setting default log level to \"WARN\".\n",
      "To adjust logging level use sc.setLogLevel(newLevel). For SparkR, use setLogLevel(newLevel).\n",
      "25/05/04 21:25:19 WARN NativeCodeLoader: Unable to load native-hadoop library for your platform... using builtin-java classes where applicable\n",
      "25/05/04 21:25:22 WARN Utils: Service 'SparkUI' could not bind on port 4040. Attempting port 4041.\n"
     ]
    }
   ],
   "source": [
    "from pyspark.sql.functions import avg, max, col\n",
    "\n",
    "# Start Spark session\n",
    "spark = SparkSession.builder \\\n",
    "    .appName(\"Spark SQL Test\") \\\n",
    "    .config(\"spark.some.config.option\", \"some-value\") \\\n",
    "    .getOrCreate()"
   ]
  },
  {
   "cell_type": "code",
   "execution_count": 4,
   "metadata": {},
   "outputs": [],
   "source": [
    "# Sample data with more details\n",
    "data = [\n",
    "    (\"Alice\", 21, \"Engineer\", 50000),\n",
    "    (\"Bob\", 30, \"Manager\", 80000),\n",
    "    (\"Charlie\", 25, \"Analyst\", 60000),\n",
    "    (\"David\", 35, \"Engineer\", 70000),\n",
    "    (\"Eve\", 28, \"Manager\", 90000),\n",
    "    (\"Frank\", 40, \"Analyst\", 75000),\n",
    "]\n",
    "\n",
    "# Create DataFrame with schema\n",
    "df = spark.createDataFrame(data, [\"name\", \"age\", \"job\", \"salary\"])\n",
    "\n",
    "# Register as SQL table\n",
    "df.createOrReplaceTempView(\"people\")"
   ]
  },
  {
   "cell_type": "code",
   "execution_count": 5,
   "metadata": {},
   "outputs": [
    {
     "name": "stdout",
     "output_type": "stream",
     "text": [
      "People older than 25:\n"
     ]
    },
    {
     "name": "stderr",
     "output_type": "stream",
     "text": [
      "                                                                                \r"
     ]
    },
    {
     "name": "stdout",
     "output_type": "stream",
     "text": [
      "+-----+--------+\n",
      "| name|     job|\n",
      "+-----+--------+\n",
      "|  Bob| Manager|\n",
      "|David|Engineer|\n",
      "|  Eve| Manager|\n",
      "|Frank| Analyst|\n",
      "+-----+--------+\n",
      "\n"
     ]
    }
   ],
   "source": [
    "\n",
    "# 1. Select names and jobs of people older than 25\n",
    "result1 = spark.sql(\"SELECT name, job FROM people WHERE age > 25\")\n",
    "print(\"People older than 25:\")\n",
    "result1.show()\n"
   ]
  },
  {
   "cell_type": "code",
   "execution_count": 6,
   "metadata": {},
   "outputs": [
    {
     "name": "stdout",
     "output_type": "stream",
     "text": [
      "Average salary:\n"
     ]
    },
    {
     "name": "stderr",
     "output_type": "stream",
     "text": [
      "[Stage 2:>                                                          (0 + 2) / 2]\r"
     ]
    },
    {
     "name": "stdout",
     "output_type": "stream",
     "text": [
      "+-----------------+\n",
      "|      avg(salary)|\n",
      "+-----------------+\n",
      "|70833.33333333333|\n",
      "+-----------------+\n",
      "\n"
     ]
    },
    {
     "name": "stderr",
     "output_type": "stream",
     "text": [
      "                                                                                \r"
     ]
    }
   ],
   "source": [
    "# 2. Calculate the average salary\n",
    "result2 = spark.sql(\"SELECT AVG(salary) FROM people\")\n",
    "print(\"Average salary:\")\n",
    "result2.show()"
   ]
  },
  {
   "cell_type": "code",
   "execution_count": 7,
   "metadata": {},
   "outputs": [
    {
     "name": "stderr",
     "output_type": "stream",
     "text": [
      "[Stage 5:>                                                          (0 + 2) / 2]\r"
     ]
    },
    {
     "name": "stdout",
     "output_type": "stream",
     "text": [
      "+--------+--------------+----------+\n",
      "|     job|average_salary|max_salary|\n",
      "+--------+--------------+----------+\n",
      "| Analyst|       67500.0|     75000|\n",
      "|Engineer|       60000.0|     70000|\n",
      "| Manager|       85000.0|     90000|\n",
      "+--------+--------------+----------+\n",
      "\n"
     ]
    },
    {
     "name": "stderr",
     "output_type": "stream",
     "text": [
      "                                                                                \r"
     ]
    }
   ],
   "source": [
    "#3. using dataframe API\n",
    "df.groupBy(\"job\").agg(avg(\"salary\").alias(\"average_salary\"), max(\"salary\").alias(\"max_salary\")).show()"
   ]
  },
  {
   "cell_type": "code",
   "execution_count": 8,
   "metadata": {},
   "outputs": [],
   "source": [
    "# Stop Spark\n",
    "spark.stop()"
   ]
  }
 ],
 "metadata": {
  "kernelspec": {
   "display_name": ".venv",
   "language": "python",
   "name": "python3"
  },
  "language_info": {
   "codemirror_mode": {
    "name": "ipython",
    "version": 3
   },
   "file_extension": ".py",
   "mimetype": "text/x-python",
   "name": "python",
   "nbconvert_exporter": "python",
   "pygments_lexer": "ipython3",
   "version": "3.11.8"
  }
 },
 "nbformat": 4,
 "nbformat_minor": 2
}
